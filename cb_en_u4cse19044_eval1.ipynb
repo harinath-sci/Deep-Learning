{
  "nbformat": 4,
  "nbformat_minor": 0,
  "metadata": {
    "colab": {
      "name": "cb.en.u4cse19044_eval1.ipynb",
      "provenance": []
    },
    "kernelspec": {
      "name": "python3",
      "display_name": "Python 3"
    },
    "language_info": {
      "name": "python"
    }
  },
  "cells": [
    {
      "cell_type": "code",
      "execution_count": 1,
      "metadata": {
        "id": "aHu7JxoOaTl5"
      },
      "outputs": [],
      "source": [
        "from tensorflow.keras.models import Sequential\n",
        "from tensorflow.keras.layers import Activation,Dense\n",
        "from tensorflow.keras import optimizers\n",
        "from tensorflow.keras import initializers\n",
        "from tensorflow.keras import datasets\n",
        "from tensorflow.keras.callbacks import EarlyStopping\n",
        "from tensorflow.keras.layers import BatchNormalization\n",
        "from tensorflow.keras.layers import Dropout\n",
        "from tensorflow.math import confusion_matrix\n",
        "from sklearn.model_selection import train_test_split\n",
        "from sklearn.preprocessing import LabelEncoder\n",
        "import matplotlib.pyplot as plt\n",
        "import seaborn as sns\n",
        "import numpy as np\n",
        "import pandas as pd"
      ]
    },
    {
      "cell_type": "code",
      "source": [
        "(X_train, Y_train), (x_test, y_test) = datasets.fashion_mnist.load_data()"
      ],
      "metadata": {
        "colab": {
          "base_uri": "https://localhost:8080/"
        },
        "id": "URZ9bqzoahAG",
        "outputId": "0c5acdb2-6437-4ca6-8584-efd4dc402ea0"
      },
      "execution_count": 2,
      "outputs": [
        {
          "output_type": "stream",
          "name": "stdout",
          "text": [
            "Downloading data from https://storage.googleapis.com/tensorflow/tf-keras-datasets/train-labels-idx1-ubyte.gz\n",
            "32768/29515 [=================================] - 0s 0us/step\n",
            "40960/29515 [=========================================] - 0s 0us/step\n",
            "Downloading data from https://storage.googleapis.com/tensorflow/tf-keras-datasets/train-images-idx3-ubyte.gz\n",
            "26427392/26421880 [==============================] - 0s 0us/step\n",
            "26435584/26421880 [==============================] - 0s 0us/step\n",
            "Downloading data from https://storage.googleapis.com/tensorflow/tf-keras-datasets/t10k-labels-idx1-ubyte.gz\n",
            "16384/5148 [===============================================================================================] - 0s 0us/step\n",
            "Downloading data from https://storage.googleapis.com/tensorflow/tf-keras-datasets/t10k-images-idx3-ubyte.gz\n",
            "4423680/4422102 [==============================] - 0s 0us/step\n",
            "4431872/4422102 [==============================] - 0s 0us/step\n"
          ]
        }
      ]
    },
    {
      "cell_type": "code",
      "source": [
        "for i in range(5):\n",
        "    plt.figure()\n",
        "    plt.imshow(X_train[i])\n",
        "    plt.title(Y_train[i])"
      ],
      "metadata": {
        "colab": {
          "base_uri": "https://localhost:8080/",
          "height": 1000
        },
        "id": "KqcQvSLCak69",
        "outputId": "f85794d5-3c5f-4c1f-80aa-1bf38f7d344b"
      },
      "execution_count": 3,
      "outputs": [
        {
          "output_type": "display_data",
          "data": {
            "image/png": "[encoded data removed]",
            "text/plain": [
              "<Figure size 432x288 with 1 Axes>"
            ]
          },
          "metadata": {
            "needs_background": "light"
          }
        },
        {
          "output_type": "display_data",
          "data": {
            "image/png": "[encoded data removed]",
            "text/plain": [
              "<Figure size 432x288 with 1 Axes>"
            ]
          },
          "metadata": {
            "needs_background": "light"
          }
        },
        {
          "output_type": "display_data",
          "data": {
            "image/png": "[encoded data removed]",
            "text/plain": [
              "<Figure size 432x288 with 1 Axes>"
            ]
          },
          "metadata": {
            "needs_background": "light"
          }
        },
        {
          "output_type": "display_data",
          "data": {
            "image/png": "[encoded data removed]",
            "text/plain": [
              "<Figure size 432x288 with 1 Axes>"
            ]
          },
          "metadata": {
            "needs_background": "light"
          }
        },
        {
          "output_type": "display_data",
          "data": {
            "image/png": "[encoded data removed]",
            "text/plain": [
              "<Figure size 432x288 with 1 Axes>"
            ]
          },
          "metadata": {
            "needs_background": "light"
          }
        }
      ]
    },
    {
      "cell_type": "code",
      "source": [
        "for i in range(5):\n",
        "    plt.figure()\n",
        "    plt.imshow(x_test[i])\n",
        "    plt.title(y_test[i])"
      ],
      "metadata": {
        "colab": {
          "base_uri": "https://localhost:8080/",
          "height": 1000
        },
        "id": "IYOxsOGQasv5",
        "outputId": "39a8c952-6378-4706-f8a4-acb4499af456"
      },
      "execution_count": 4,
      "outputs": [
        {
          "output_type": "display_data",
          "data": {
            "image/png": "[encoded data removed]",
            "text/plain": [
              "<Figure size 432x288 with 1 Axes>"
            ]
          },
          "metadata": {
            "needs_background": "light"
          }
        },
        {
          "output_type": "display_data",
          "data": {
            "image/png": "[encoded data removed]",
            "text/plain": [
              "<Figure size 432x288 with 1 Axes>"
            ]
          },
          "metadata": {
            "needs_background": "light"
          }
        },
        {
          "output_type": "display_data",
          "data": {
            "image/png": "[encoded data removed]",
            "text/plain": [
              "<Figure size 432x288 with 1 Axes>"
            ]
          },
          "metadata": {
            "needs_background": "light"
          }
        },
        {
          "output_type": "display_data",
          "data": {
            "image/png": "[encoded data removed]",
            "text/plain": [
              "<Figure size 432x288 with 1 Axes>"
            ]
          },
          "metadata": {
            "needs_background": "light"
          }
        },
        {
          "output_type": "display_data",
          "data": {
            "image/png": "[encoded data removed]",
            "text/plain": [
              "<Figure size 432x288 with 1 Axes>"
            ]
          },
          "metadata": {
            "needs_background": "light"
          }
        }
      ]
    },
    {
      "cell_type": "code",
      "source": [
        "X_train.shape,x_test.shape,Y_train.shape,y_test.shape"
      ],
      "metadata": {
        "colab": {
          "base_uri": "https://localhost:8080/"
        },
        "id": "ss1DyKY1axF7",
        "outputId": "3c1e7b06-5c23-4e32-9437-ab107bc776cd"
      },
      "execution_count": 5,
      "outputs": [
        {
          "output_type": "execute_result",
          "data": {
            "text/plain": [
              "((60000, 28, 28), (10000, 28, 28), (60000,), (10000,))"
            ]
          },
          "metadata": {},
          "execution_count": 5
        }
      ]
    },
    {
      "cell_type": "markdown",
      "source": [
        "Reshapinf"
      ],
      "metadata": {
        "id": "Tpi217_9a3pv"
      }
    },
    {
      "cell_type": "code",
      "source": [
        "X_train = np.array(X_train)\n",
        "X_train = X_train.reshape((60000,28*28))\n",
        "X_train = X_train/255\n",
        "x_test = np.array(x_test)\n",
        "x_test = x_test.reshape((10000,28*28))\n",
        "x_test = x_test/255"
      ],
      "metadata": {
        "id": "Mv4s36NcazF-"
      },
      "execution_count": 6,
      "outputs": []
    },
    {
      "cell_type": "code",
      "source": [
        "model = Sequential()\n",
        "model.add(Dense(150,input_shape = (28*28,)))\n",
        "model.add(Activation('sigmoid'))\n",
        "model.add(Dense(100))\n",
        "model.add(Activation('sigmoid'))\n",
        "model.add(Dense(75))\n",
        "model.add(Activation('sigmoid'))\n",
        "model.add(Dense(50))\n",
        "model.add(Activation('sigmoid'))\n",
        "model.add(Dense(25))\n",
        "model.add(Activation('sigmoid'))\n",
        "model.add(Dense(10))\n",
        "model.add(Activation('sigmoid'))\n",
        "model.summary()"
      ],
      "metadata": {
        "colab": {
          "base_uri": "https://localhost:8080/"
        },
        "id": "WjS1FsRAa6SK",
        "outputId": "2a7be25b-eae1-47dd-ad1f-b4d600873c29"
      },
      "execution_count": 7,
      "outputs": [
        {
          "output_type": "stream",
          "name": "stdout",
          "text": [
            "Model: \"sequential\"\n",
            "_________________________________________________________________\n",
            " Layer (type)                Output Shape              Param #   \n",
            "=================================================================\n",
            " dense (Dense)               (None, 150)               117750    \n",
            "                                                                 \n",
            " activation (Activation)     (None, 150)               0         \n",
            "                                                                 \n",
            " dense_1 (Dense)             (None, 100)               15100     \n",
            "                                                                 \n",
            " activation_1 (Activation)   (None, 100)               0         \n",
            "                                                                 \n",
            " dense_2 (Dense)             (None, 75)                7575      \n",
            "                                                                 \n",
            " activation_2 (Activation)   (None, 75)                0         \n",
            "                                                                 \n",
            " dense_3 (Dense)             (None, 50)                3800      \n",
            "                                                                 \n",
            " activation_3 (Activation)   (None, 50)                0         \n",
            "                                                                 \n",
            " dense_4 (Dense)             (None, 25)                1275      \n",
            "                                                                 \n",
            " activation_4 (Activation)   (None, 25)                0         \n",
            "                                                                 \n",
            " dense_5 (Dense)             (None, 10)                260       \n",
            "                                                                 \n",
            " activation_5 (Activation)   (None, 10)                0         \n",
            "                                                                 \n",
            "=================================================================\n",
            "Total params: 145,760\n",
            "Trainable params: 145,760\n",
            "Non-trainable params: 0\n",
            "_________________________________________________________________\n"
          ]
        }
      ]
    },
    {
      "cell_type": "code",
      "source": [
        "opt = optimizers.SGD()\n",
        "model.compile(optimizer = opt,loss = 'sparse_categorical_crossentropy',metrics = ['accuracy'])\n",
        "mkl = model.fit(x = X_train,y = Y_train,batch_size = 50,epochs = 5,verbose = 1,validation_split = 0.2)"
      ],
      "metadata": {
        "colab": {
          "base_uri": "https://localhost:8080/"
        },
        "id": "ESYnuvVWbEVo",
        "outputId": "579956b5-be05-45a2-d8b1-b2af5c1281ac"
      },
      "execution_count": 9,
      "outputs": [
        {
          "output_type": "stream",
          "name": "stdout",
          "text": [
            "Epoch 1/5\n",
            "960/960 [==============================] - 7s 7ms/step - loss: 2.3027 - accuracy: 0.1028 - val_loss: 2.3025 - val_accuracy: 0.1005\n",
            "Epoch 2/5\n",
            "960/960 [==============================] - 5s 5ms/step - loss: 2.3026 - accuracy: 0.1029 - val_loss: 2.3029 - val_accuracy: 0.0957\n",
            "Epoch 3/5\n",
            "960/960 [==============================] - 4s 4ms/step - loss: 2.3026 - accuracy: 0.1035 - val_loss: 2.3026 - val_accuracy: 0.0983\n",
            "Epoch 4/5\n",
            "960/960 [==============================] - 3s 3ms/step - loss: 2.3025 - accuracy: 0.1018 - val_loss: 2.3024 - val_accuracy: 0.0983\n",
            "Epoch 5/5\n",
            "960/960 [==============================] - 3s 3ms/step - loss: 2.3024 - accuracy: 0.1042 - val_loss: 2.3025 - val_accuracy: 0.1003\n"
          ]
        }
      ]
    },
    {
      "cell_type": "code",
      "source": [
        "plt.plot(mkl.history['accuracy'],color = 'r',label = 'train_accuracy')\n",
        "plt.plot(mkl.history['val_accuracy'],color = 'g',label = 'validation_accuracy')\n",
        "plt.legend()\n",
        "plt.xlabel('epoch')"
      ],
      "metadata": {
        "colab": {
          "base_uri": "https://localhost:8080/",
          "height": 296
        },
        "id": "sSLJVccebL-Y",
        "outputId": "6a82ad75-8caf-4d58-d972-16c8d384857d"
      },
      "execution_count": 10,
      "outputs": [
        {
          "output_type": "execute_result",
          "data": {
            "text/plain": [
              "Text(0.5, 0, 'epoch')"
            ]
          },
          "metadata": {},
          "execution_count": 10
        },
        {
          "output_type": "display_data",
          "data": {
            "image/png": "[encoded data removed]",
            "text/plain": [
              "<Figure size 432x288 with 1 Axes>"
            ]
          },
          "metadata": {
            "needs_background": "light"
          }
        }
      ]
    },
    {
      "cell_type": "code",
      "source": [
        "plt.plot(mkl.history['loss'],color = 'b',label = 'train_loss')\n",
        "plt.plot(mkl.history['val_loss'],color = 'black',label = 'validation_loss')\n",
        "plt.legend()\n",
        "plt.xlabel('epoch')"
      ],
      "metadata": {
        "colab": {
          "base_uri": "https://localhost:8080/",
          "height": 307
        },
        "id": "BHlnX2KCbejN",
        "outputId": "06d0c50f-4c58-4dca-eedb-ec2f5f8fbd7c"
      },
      "execution_count": 11,
      "outputs": [
        {
          "output_type": "execute_result",
          "data": {
            "text/plain": [
              "Text(0.5, 0, 'epoch')"
            ]
          },
          "metadata": {},
          "execution_count": 11
        },
        {
          "output_type": "display_data",
          "data": {
            "image/png": "[encoded data removed]",
            "text/plain": [
              "<Figure size 432x288 with 1 Axes>"
            ]
          },
          "metadata": {
            "needs_background": "light"
          }
        }
      ]
    },
    {
      "cell_type": "code",
      "source": [
        "model.evaluate(x_test,y_test)"
      ],
      "metadata": {
        "colab": {
          "base_uri": "https://localhost:8080/"
        },
        "id": "id2Hey1qbq_D",
        "outputId": "d83fa62a-9840-4cf4-aafb-b24f3744b802"
      },
      "execution_count": 12,
      "outputs": [
        {
          "output_type": "stream",
          "name": "stdout",
          "text": [
            "313/313 [==============================] - 2s 5ms/step - loss: 2.3022 - accuracy: 0.1000\n"
          ]
        },
        {
          "output_type": "execute_result",
          "data": {
            "text/plain": [
              "[2.3022122383117676, 0.10000000149011612]"
            ]
          },
          "metadata": {},
          "execution_count": 12
        }
      ]
    },
    {
      "cell_type": "markdown",
      "source": [
        "The model shows that accuracy of validation is more than training so it is overfitting model"
      ],
      "metadata": {
        "id": "SJ-vafBbb1Jo"
      }
    },
    {
      "cell_type": "code",
      "source": [
        "confusion_matrix(y_test,np.argmax(model.predict(x_test),axis = 1))"
      ],
      "metadata": {
        "colab": {
          "base_uri": "https://localhost:8080/"
        },
        "id": "Qr6dxRdUb9KD",
        "outputId": "c045086b-2627-43b6-e6cb-42925a744cbd"
      },
      "execution_count": 14,
      "outputs": [
        {
          "output_type": "execute_result",
          "data": {
            "text/plain": [
              "<tf.Tensor: shape=(10, 10), dtype=int32, numpy=\n",
              "array([[   0,    0,    0,    0,    0,    0,    0,    0,    0, 1000],\n",
              "       [   0,    0,    0,    0,    0,    0,    0,    0,    0, 1000],\n",
              "       [   0,    0,    0,    0,    0,    0,    0,    0,    0, 1000],\n",
              "       [   0,    0,    0,    0,    0,    0,    0,    0,    0, 1000],\n",
              "       [   0,    0,    0,    0,    0,    0,    0,    0,    0, 1000],\n",
              "       [   0,    0,    0,    0,    0,    0,    0,    0,    0, 1000],\n",
              "       [   0,    0,    0,    0,    0,    0,    0,    0,    0, 1000],\n",
              "       [   0,    0,    0,    0,    0,    0,    0,    0,    0, 1000],\n",
              "       [   0,    0,    0,    0,    0,    0,    0,    0,    0, 1000],\n",
              "       [   0,    0,    0,    0,    0,    0,    0,    0,    0, 1000]],\n",
              "      dtype=int32)>"
            ]
          },
          "metadata": {},
          "execution_count": 14
        }
      ]
    },
    {
      "cell_type": "code",
      "source": [
        "pred1 = np.argmax(model.predict(x_test),axis = 1)"
      ],
      "metadata": {
        "id": "0TyODA3MeRfi"
      },
      "execution_count": 19,
      "outputs": []
    },
    {
      "cell_type": "code",
      "source": [
        "from sklearn.metrics import accuracy_score\n",
        "accuracy_score(y_test,pred1)"
      ],
      "metadata": {
        "colab": {
          "base_uri": "https://localhost:8080/"
        },
        "id": "6pZRLHLTeZqL",
        "outputId": "2862ef0c-b287-480e-b6b1-d088a7d8d044"
      },
      "execution_count": 24,
      "outputs": [
        {
          "output_type": "execute_result",
          "data": {
            "text/plain": [
              "0.1"
            ]
          },
          "metadata": {},
          "execution_count": 24
        }
      ]
    },
    {
      "cell_type": "code",
      "source": [
        "from sklearn.metrics import confusion_matrix, accuracy_score,precision_score,recall_score,f1_score\n",
        "precision_score(y_test,pred1,average='macro')"
      ],
      "metadata": {
        "colab": {
          "base_uri": "https://localhost:8080/"
        },
        "id": "uJYgkJuAgDQ-",
        "outputId": "6601ad98-0891-4485-b6e1-12310b3f17bb"
      },
      "execution_count": 27,
      "outputs": [
        {
          "output_type": "stream",
          "name": "stderr",
          "text": [
            "/usr/local/lib/python3.7/dist-packages/sklearn/metrics/_classification.py:1318: UndefinedMetricWarning: Precision is ill-defined and being set to 0.0 in labels with no predicted samples. Use `zero_division` parameter to control this behavior.\n",
            "  _warn_prf(average, modifier, msg_start, len(result))\n"
          ]
        },
        {
          "output_type": "execute_result",
          "data": {
            "text/plain": [
              "0.01"
            ]
          },
          "metadata": {},
          "execution_count": 27
        }
      ]
    },
    {
      "cell_type": "code",
      "source": [
        "recall_score(y_test,pred1,average='micro')"
      ],
      "metadata": {
        "colab": {
          "base_uri": "https://localhost:8080/"
        },
        "id": "bSQwNGaOgb_m",
        "outputId": "777607da-f334-43e4-8377-34bf0d24b9b5"
      },
      "execution_count": 28,
      "outputs": [
        {
          "output_type": "execute_result",
          "data": {
            "text/plain": [
              "0.1"
            ]
          },
          "metadata": {},
          "execution_count": 28
        }
      ]
    },
    {
      "cell_type": "code",
      "source": [
        "f1_score(y_test,pred1,average='micro')"
      ],
      "metadata": {
        "colab": {
          "base_uri": "https://localhost:8080/"
        },
        "id": "jD1pHAywgjv3",
        "outputId": "87dcdea4-19a9-411c-995d-679dc7e9927c"
      },
      "execution_count": 29,
      "outputs": [
        {
          "output_type": "execute_result",
          "data": {
            "text/plain": [
              "0.10000000000000002"
            ]
          },
          "metadata": {},
          "execution_count": 29
        }
      ]
    },
    {
      "cell_type": "code",
      "source": [
        "from keras.layers import BatchNormalization"
      ],
      "metadata": {
        "id": "yG8taYFGdepk"
      },
      "execution_count": 16,
      "outputs": []
    },
    {
      "cell_type": "code",
      "source": [
        "model2=Sequential()"
      ],
      "metadata": {
        "id": "xn21M0LafXJ3"
      },
      "execution_count": 30,
      "outputs": []
    },
    {
      "cell_type": "code",
      "source": [
        "model2 = Sequential()\n",
        "model2.add(Dense(150,input_shape = (28*28,),kernel_initializer = initializers.HeNormal))\n",
        "model2.add(BatchNormalization())\n",
        "model2.add(Activation('relu'))\n",
        "model2.add(Dense(100,kernel_initializer = initializers.HeNormal))\n",
        "model2.add(BatchNormalization())\n",
        "model2.add(Activation('relu'))\n",
        "model2.add(Dropout(0.2))\n",
        "model2.add(Dense(75,kernel_initializer = initializers.HeNormal))\n",
        "model2.add(BatchNormalization())\n",
        "model2.add(Activation('relu'))\n",
        "model2.add(Dropout(0.2))\n",
        "model2.add(Dense(50,kernel_initializer = initializers.HeNormal))\n",
        "model2.add(BatchNormalization())\n",
        "model2.add(Activation('relu'))\n",
        "model2.add(Dropout(0.2))\n",
        "model2.add(Dense(25,kernel_initializer = initializers.HeNormal))\n",
        "model2.add(BatchNormalization())\n",
        "model2.add(Activation('relu'))\n",
        "model2.add(Dropout(0.2))\n",
        "model2.add(Dense(10,kernel_initializer = initializers.HeNormal))\n",
        "model2.add(BatchNormalization())\n",
        "model2.add(Activation('softmax'))\n",
        "model2.summary()"
      ],
      "metadata": {
        "colab": {
          "base_uri": "https://localhost:8080/"
        },
        "id": "1K8vjTNBcQ7Q",
        "outputId": "0b1b9c74-5838-4301-eeed-3b4d95e29ddf"
      },
      "execution_count": 31,
      "outputs": [
        {
          "output_type": "stream",
          "name": "stdout",
          "text": [
            "Model: \"sequential_5\"\n",
            "_________________________________________________________________\n",
            " Layer (type)                Output Shape              Param #   \n",
            "=================================================================\n",
            " dense_18 (Dense)            (None, 150)               117750    \n",
            "                                                                 \n",
            " batch_normalization_5 (Batc  (None, 150)              600       \n",
            " hNormalization)                                                 \n",
            "                                                                 \n",
            " activation_18 (Activation)  (None, 150)               0         \n",
            "                                                                 \n",
            " dense_19 (Dense)            (None, 100)               15100     \n",
            "                                                                 \n",
            " batch_normalization_6 (Batc  (None, 100)              400       \n",
            " hNormalization)                                                 \n",
            "                                                                 \n",
            " activation_19 (Activation)  (None, 100)               0         \n",
            "                                                                 \n",
            " dropout (Dropout)           (None, 100)               0         \n",
            "                                                                 \n",
            " dense_20 (Dense)            (None, 75)                7575      \n",
            "                                                                 \n",
            " batch_normalization_7 (Batc  (None, 75)               300       \n",
            " hNormalization)                                                 \n",
            "                                                                 \n",
            " activation_20 (Activation)  (None, 75)                0         \n",
            "                                                                 \n",
            " dropout_1 (Dropout)         (None, 75)                0         \n",
            "                                                                 \n",
            " dense_21 (Dense)            (None, 50)                3800      \n",
            "                                                                 \n",
            " batch_normalization_8 (Batc  (None, 50)               200       \n",
            " hNormalization)                                                 \n",
            "                                                                 \n",
            " activation_21 (Activation)  (None, 50)                0         \n",
            "                                                                 \n",
            " dropout_2 (Dropout)         (None, 50)                0         \n",
            "                                                                 \n",
            " dense_22 (Dense)            (None, 25)                1275      \n",
            "                                                                 \n",
            " batch_normalization_9 (Batc  (None, 25)               100       \n",
            " hNormalization)                                                 \n",
            "                                                                 \n",
            " activation_22 (Activation)  (None, 25)                0         \n",
            "                                                                 \n",
            " dropout_3 (Dropout)         (None, 25)                0         \n",
            "                                                                 \n",
            " dense_23 (Dense)            (None, 10)                260       \n",
            "                                                                 \n",
            " batch_normalization_10 (Bat  (None, 10)               40        \n",
            " chNormalization)                                                \n",
            "                                                                 \n",
            " activation_23 (Activation)  (None, 10)                0         \n",
            "                                                                 \n",
            "=================================================================\n",
            "Total params: 147,400\n",
            "Trainable params: 146,580\n",
            "Non-trainable params: 820\n",
            "_________________________________________________________________\n"
          ]
        }
      ]
    },
    {
      "cell_type": "code",
      "source": [
        "opt = optimizers.Adam()\n",
        "model2.compile(optimizer = opt,loss = 'sparse_categorical_crossentropy',metrics = ['accuracy'])\n",
        "mkl2 = model2.fit(x = X_train,y = Y_train,batch_size = 50,epochs = 5,verbose = 1,validation_split = 0.2)"
      ],
      "metadata": {
        "colab": {
          "base_uri": "https://localhost:8080/"
        },
        "id": "aApYJWRYcta0",
        "outputId": "1c8df8ec-7a32-400a-820c-e6b5e4fad38c"
      },
      "execution_count": 32,
      "outputs": [
        {
          "output_type": "stream",
          "name": "stdout",
          "text": [
            "Epoch 1/5\n",
            "960/960 [==============================] - 8s 6ms/step - loss: 0.9952 - accuracy: 0.7181 - val_loss: 0.5258 - val_accuracy: 0.8403\n",
            "Epoch 2/5\n",
            "960/960 [==============================] - 6s 6ms/step - loss: 0.6519 - accuracy: 0.8172 - val_loss: 0.4397 - val_accuracy: 0.8602\n",
            "Epoch 3/5\n",
            "960/960 [==============================] - 5s 6ms/step - loss: 0.5635 - accuracy: 0.8366 - val_loss: 0.4410 - val_accuracy: 0.8526\n",
            "Epoch 4/5\n",
            "960/960 [==============================] - 6s 6ms/step - loss: 0.5172 - accuracy: 0.8485 - val_loss: 0.3911 - val_accuracy: 0.8687\n",
            "Epoch 5/5\n",
            "960/960 [==============================] - 6s 6ms/step - loss: 0.4826 - accuracy: 0.8573 - val_loss: 0.3782 - val_accuracy: 0.8742\n"
          ]
        }
      ]
    },
    {
      "cell_type": "code",
      "source": [
        "plt.plot(mkl2.history['accuracy'],color = 'r',label = 'train_accuracy')\n",
        "plt.plot(mkl2.history['val_accuracy'],color = 'g',label = 'validation_accuracy')\n",
        "plt.legend()\n",
        "plt.xlabel('epoch')"
      ],
      "metadata": {
        "colab": {
          "base_uri": "https://localhost:8080/",
          "height": 298
        },
        "id": "euLQFvkueHsu",
        "outputId": "68ab8856-9b93-4505-f204-74c660cc0970"
      },
      "execution_count": 33,
      "outputs": [
        {
          "output_type": "execute_result",
          "data": {
            "text/plain": [
              "Text(0.5, 0, 'epoch')"
            ]
          },
          "metadata": {},
          "execution_count": 33
        },
        {
          "output_type": "display_data",
          "data": {
            "image/png": "[encoded data removed]",
            "text/plain": [
              "<Figure size 432x288 with 1 Axes>"
            ]
          },
          "metadata": {
            "needs_background": "light"
          }
        }
      ]
    },
    {
      "cell_type": "code",
      "source": [
        "plt.plot(mkl2.history['loss'],color = 'b',label = 'train_loss')\n",
        "plt.plot(mkl2.history['val_loss'],color = 'black',label = 'validation_loss')\n",
        "plt.legend()\n",
        "plt.xlabel('epoch')"
      ],
      "metadata": {
        "colab": {
          "base_uri": "https://localhost:8080/",
          "height": 296
        },
        "id": "cfXIW0YshPM4",
        "outputId": "8c0994f2-3afd-45eb-a7da-bc3d15b089b7"
      },
      "execution_count": 34,
      "outputs": [
        {
          "output_type": "execute_result",
          "data": {
            "text/plain": [
              "Text(0.5, 0, 'epoch')"
            ]
          },
          "metadata": {},
          "execution_count": 34
        },
        {
          "output_type": "display_data",
          "data": {
            "image/png": "[encoded data removed]",
            "text/plain": [
              "<Figure size 432x288 with 1 Axes>"
            ]
          },
          "metadata": {
            "needs_background": "light"
          }
        }
      ]
    },
    {
      "cell_type": "code",
      "source": [
        "model2.evaluate(x_test,y_test)"
      ],
      "metadata": {
        "colab": {
          "base_uri": "https://localhost:8080/"
        },
        "id": "0KZ3789lhZJK",
        "outputId": "698698c2-5b27-4038-f1e3-e6e28d0af3da"
      },
      "execution_count": 35,
      "outputs": [
        {
          "output_type": "stream",
          "name": "stdout",
          "text": [
            "313/313 [==============================] - 2s 4ms/step - loss: 0.4078 - accuracy: 0.8630\n"
          ]
        },
        {
          "output_type": "execute_result",
          "data": {
            "text/plain": [
              "[0.40778282284736633, 0.8629999756813049]"
            ]
          },
          "metadata": {},
          "execution_count": 35
        }
      ]
    },
    {
      "cell_type": "code",
      "source": [
        "confusion_matrix(y_test,np.argmax(model2.predict(x_test),axis = 1))"
      ],
      "metadata": {
        "colab": {
          "base_uri": "https://localhost:8080/"
        },
        "id": "dlTG9-JsheO9",
        "outputId": "57834172-853c-4c68-b544-582345bb240a"
      },
      "execution_count": 36,
      "outputs": [
        {
          "output_type": "execute_result",
          "data": {
            "text/plain": [
              "array([[834,   8,  27,  47,   6,   2,  65,   2,   8,   1],\n",
              "       [  2, 969,   2,  23,   2,   0,   0,   0,   2,   0],\n",
              "       [ 13,   1, 866,  10,  88,   1,  18,   1,   2,   0],\n",
              "       [ 10,  23,  16, 878,  47,   0,  23,   0,   3,   0],\n",
              "       [  0,   5, 145,  20, 797,   0,  32,   0,   1,   0],\n",
              "       [  0,   0,   0,   1,   0, 921,   0,  50,   1,  27],\n",
              "       [138,   8, 170,  51, 103,   0, 521,   0,   8,   1],\n",
              "       [  0,   0,   0,   0,   0,  11,   0, 959,   0,  30],\n",
              "       [  1,   3,  15,   7,   7,  18,   5,   7, 936,   1],\n",
              "       [  0,   0,   0,   0,   0,   5,   1,  45,   0, 949]])"
            ]
          },
          "metadata": {},
          "execution_count": 36
        }
      ]
    },
    {
      "cell_type": "code",
      "source": [
        "pred2 = np.argmax(model2.predict(x_test),axis = 1)"
      ],
      "metadata": {
        "id": "9Gugy3QLhl0w"
      },
      "execution_count": 37,
      "outputs": []
    },
    {
      "cell_type": "code",
      "source": [
        "accuracy_score(y_test,pred2)"
      ],
      "metadata": {
        "colab": {
          "base_uri": "https://localhost:8080/"
        },
        "id": "bxu6mycyhuDe",
        "outputId": "fb8ebe5e-0c28-4f29-cca6-ad03643f54c5"
      },
      "execution_count": 38,
      "outputs": [
        {
          "output_type": "execute_result",
          "data": {
            "text/plain": [
              "0.863"
            ]
          },
          "metadata": {},
          "execution_count": 38
        }
      ]
    },
    {
      "cell_type": "code",
      "source": [
        "precision_score(y_test,pred2,average='micro')"
      ],
      "metadata": {
        "colab": {
          "base_uri": "https://localhost:8080/"
        },
        "id": "VYx_1_NRhzBb",
        "outputId": "5bc90198-da6d-40f6-d3d0-762cf81564fb"
      },
      "execution_count": 39,
      "outputs": [
        {
          "output_type": "execute_result",
          "data": {
            "text/plain": [
              "0.863"
            ]
          },
          "metadata": {},
          "execution_count": 39
        }
      ]
    },
    {
      "cell_type": "code",
      "source": [
        "recall_score(y_test,pred2,average='micro')"
      ],
      "metadata": {
        "colab": {
          "base_uri": "https://localhost:8080/"
        },
        "id": "_ufWJvRUh42F",
        "outputId": "f6b6f98a-ee6a-4971-ffc1-d58076081077"
      },
      "execution_count": 40,
      "outputs": [
        {
          "output_type": "execute_result",
          "data": {
            "text/plain": [
              "0.863"
            ]
          },
          "metadata": {},
          "execution_count": 40
        }
      ]
    },
    {
      "cell_type": "code",
      "source": [
        "f1_score(y_test,pred1,average='micro')"
      ],
      "metadata": {
        "colab": {
          "base_uri": "https://localhost:8080/"
        },
        "id": "ipJK2dBth7Sd",
        "outputId": "9645a1e2-26d2-4630-c8ee-286214369a7f"
      },
      "execution_count": 41,
      "outputs": [
        {
          "output_type": "execute_result",
          "data": {
            "text/plain": [
              "0.10000000000000002"
            ]
          },
          "metadata": {},
          "execution_count": 41
        }
      ]
    },
    {
      "cell_type": "markdown",
      "source": [
        "The model has fitted properly"
      ],
      "metadata": {
        "id": "oG3onwxNh_4n"
      }
    },
    {
      "cell_type": "code",
      "source": [
        ""
      ],
      "metadata": {
        "id": "TQz-Cs3HiDUR"
      },
      "execution_count": null,
      "outputs": []
    }
  ]
}